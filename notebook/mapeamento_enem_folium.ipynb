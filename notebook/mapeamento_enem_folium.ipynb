{
  "nbformat": 4,
  "nbformat_minor": 0,
  "metadata": {
    "kernelspec": {
      "display_name": "Python 3",
      "language": "python",
      "name": "python3"
    },
    "language_info": {
      "codemirror_mode": {
        "name": "ipython",
        "version": 3
      },
      "file_extension": ".py",
      "mimetype": "text/x-python",
      "name": "python",
      "nbconvert_exporter": "python",
      "pygments_lexer": "ipython3",
      "version": "3.7.6"
    },
    "colab": {
      "name": "mapeamento-enem-folium.ipynb",
      "provenance": [],
      "collapsed_sections": [
        "shb34g39Qdk-",
        "fn-5oW_4xFNV",
        "LjgjXJFrxFOH",
        "8VjIrSUnWgO_",
        "bda-GS2cUW-t",
        "B-g5P63rq5DV",
        "Iw2FgJoKzT3u",
        "ZH6sqI8LnKR-",
        "9uK645BWnOyV"
      ]
    }
  },
  "cells": [
    {
      "cell_type": "markdown",
      "metadata": {
        "id": "_9iidVND3tZc",
        "colab_type": "text"
      },
      "source": [
        "#Mapeamento de médias do ENEM por estado com Folium\n",
        "\n",
        "#### Objetivo: Mapear todas as médias do ENEM por escola, isto é, vamos colocar um pin em cada localização de uma unidade escolar a sua respectiva média.\n",
        "---\n",
        "\n",
        "\n",
        "\n",
        "\n",
        "Criado por Wendel Marques\n",
        "\n",
        "*   [GitHub](https://www.github.com/WendelMarques)\n",
        "*   [LinkedIn](https://www.linkedin.com/in/wendelmarques/)\n",
        "*   [Medium](https://medium.com/@WendelMarquesJS/mapeamento-de-m%C3%A9dias-do-enem-por-estado-com-folium-bf61fe23a3d8?source=your_stories_page---------------------------)\n",
        "\n",
        "\n"
      ]
    },
    {
      "cell_type": "markdown",
      "metadata": {
        "id": "jG4aAPKXxFYD",
        "colab_type": "text"
      },
      "source": [
        "# Bibliotecas"
      ]
    },
    {
      "cell_type": "code",
      "metadata": {
        "id": "hTvXo-bexKpB",
        "colab_type": "code",
        "colab": {}
      },
      "source": [
        "from google.colab import drive\n",
        "drive.mount('/content/drive')"
      ],
      "execution_count": null,
      "outputs": []
    },
    {
      "cell_type": "code",
      "metadata": {
        "id": "io1LGqZ9xFNF",
        "colab_type": "code",
        "colab": {}
      },
      "source": [
        "import pandas as pd\n",
        "import numpy as np\n",
        "import json\n",
        "import folium\n",
        "from folium import Marker\n",
        "from folium.plugins import MarkerCluster\n",
        "from jinja2 import Template\n",
        "from branca.element import Template, MacroElement"
      ],
      "execution_count": null,
      "outputs": []
    },
    {
      "cell_type": "markdown",
      "metadata": {
        "id": "shb34g39Qdk-",
        "colab_type": "text"
      },
      "source": [
        "# Tratamento dos dados do ENEM\n"
      ]
    },
    {
      "cell_type": "markdown",
      "metadata": {
        "id": "fn-5oW_4xFNV",
        "colab_type": "text"
      },
      "source": [
        "## Leitura dos dados e visualização do conteúdo"
      ]
    },
    {
      "cell_type": "code",
      "metadata": {
        "id": "0fOinu_oxFNY",
        "colab_type": "code",
        "colab": {
          "base_uri": "https://localhost:8080/",
          "height": 71
        },
        "outputId": "8fd71567-c9d4-4a65-ead6-295a97bb3e03"
      },
      "source": [
        "#carrega os dados no dataframe\n",
        "df = pd.read_csv('/content/drive/My Drive/Colab Notebooks/enem/microdados-enem-escola.csv', encoding = 'latin-1', sep=';')"
      ],
      "execution_count": null,
      "outputs": [
        {
          "output_type": "stream",
          "text": [
            "/usr/local/lib/python3.6/dist-packages/IPython/core/interactiveshell.py:2718: DtypeWarning: Columns (20) have mixed types.Specify dtype option on import or set low_memory=False.\n",
            "  interactivity=interactivity, compiler=compiler, result=result)\n"
          ],
          "name": "stderr"
        }
      ]
    },
    {
      "cell_type": "code",
      "metadata": {
        "id": "gB3m25WbxFNk",
        "colab_type": "code",
        "colab": {
          "base_uri": "https://localhost:8080/",
          "height": 309
        },
        "outputId": "c83b968e-8de5-4bf3-d536-2fe6d53a3de1"
      },
      "source": [
        "#vizualiza as primeiras 5 entradas do dataframe\n",
        "df.head()"
      ],
      "execution_count": null,
      "outputs": [
        {
          "output_type": "execute_result",
          "data": {
            "text/html": [
              "<div>\n",
              "<style scoped>\n",
              "    .dataframe tbody tr th:only-of-type {\n",
              "        vertical-align: middle;\n",
              "    }\n",
              "\n",
              "    .dataframe tbody tr th {\n",
              "        vertical-align: top;\n",
              "    }\n",
              "\n",
              "    .dataframe thead th {\n",
              "        text-align: right;\n",
              "    }\n",
              "</style>\n",
              "<table border=\"1\" class=\"dataframe\">\n",
              "  <thead>\n",
              "    <tr style=\"text-align: right;\">\n",
              "      <th></th>\n",
              "      <th>NU_ANO</th>\n",
              "      <th>CO_UF_ESCOLA</th>\n",
              "      <th>SG_UF_ESCOLA</th>\n",
              "      <th>CO_MUNICIPIO_ESCOLA</th>\n",
              "      <th>NO_MUNICIPIO_ESCOLA</th>\n",
              "      <th>CO_ESCOLA_EDUCACENSO</th>\n",
              "      <th>NO_ESCOLA_EDUCACENSO</th>\n",
              "      <th>TP_DEPENDENCIA_ADM_ESCOLA</th>\n",
              "      <th>TP_LOCALIZACAO_ESCOLA</th>\n",
              "      <th>NU_MATRICULAS</th>\n",
              "      <th>NU_PARTICIPANTES_NEC_ESP</th>\n",
              "      <th>NU_PARTICIPANTES</th>\n",
              "      <th>NU_TAXA_PARTICIPACAO</th>\n",
              "      <th>NU_MEDIA_CN</th>\n",
              "      <th>NU_MEDIA_CH</th>\n",
              "      <th>NU_MEDIA_LP</th>\n",
              "      <th>NU_MEDIA_MT</th>\n",
              "      <th>NU_MEDIA_RED</th>\n",
              "      <th>NU_MEDIA_OBJ</th>\n",
              "      <th>NU_MEDIA_TOT</th>\n",
              "      <th>INSE</th>\n",
              "      <th>PC_FORMACAO_DOCENTE</th>\n",
              "      <th>NU_TAXA_PERMANENCIA</th>\n",
              "      <th>NU_TAXA_APROVACAO</th>\n",
              "      <th>NU_TAXA_REPROVACAO</th>\n",
              "      <th>NU_TAXA_ABANDONO</th>\n",
              "      <th>PORTE_ESCOLA</th>\n",
              "    </tr>\n",
              "  </thead>\n",
              "  <tbody>\n",
              "    <tr>\n",
              "      <th>0</th>\n",
              "      <td>2007</td>\n",
              "      <td>11</td>\n",
              "      <td>RO</td>\n",
              "      <td>1100205</td>\n",
              "      <td>Porto Velho</td>\n",
              "      <td>11000058</td>\n",
              "      <td>CENTRO DE ENSINO CLASSE A</td>\n",
              "      <td>4</td>\n",
              "      <td>1</td>\n",
              "      <td>144</td>\n",
              "      <td>NaN</td>\n",
              "      <td>140</td>\n",
              "      <td>NaN</td>\n",
              "      <td>NaN</td>\n",
              "      <td>NaN</td>\n",
              "      <td>NaN</td>\n",
              "      <td>NaN</td>\n",
              "      <td>NaN</td>\n",
              "      <td>NaN</td>\n",
              "      <td>69.03</td>\n",
              "      <td>NaN</td>\n",
              "      <td>NaN</td>\n",
              "      <td>NaN</td>\n",
              "      <td>91.9</td>\n",
              "      <td>8.1</td>\n",
              "      <td>0.0</td>\n",
              "      <td>Maior que 90 alunos</td>\n",
              "    </tr>\n",
              "    <tr>\n",
              "      <th>1</th>\n",
              "      <td>2006</td>\n",
              "      <td>11</td>\n",
              "      <td>RO</td>\n",
              "      <td>1100205</td>\n",
              "      <td>Porto Velho</td>\n",
              "      <td>11000058</td>\n",
              "      <td>CENTRO DE ENSINO CLASSE A</td>\n",
              "      <td>4</td>\n",
              "      <td>1</td>\n",
              "      <td>184</td>\n",
              "      <td>NaN</td>\n",
              "      <td>139</td>\n",
              "      <td>NaN</td>\n",
              "      <td>NaN</td>\n",
              "      <td>NaN</td>\n",
              "      <td>NaN</td>\n",
              "      <td>NaN</td>\n",
              "      <td>NaN</td>\n",
              "      <td>NaN</td>\n",
              "      <td>57.82</td>\n",
              "      <td>NaN</td>\n",
              "      <td>NaN</td>\n",
              "      <td>NaN</td>\n",
              "      <td>NaN</td>\n",
              "      <td>NaN</td>\n",
              "      <td>NaN</td>\n",
              "      <td>Maior que 90 alunos</td>\n",
              "    </tr>\n",
              "    <tr>\n",
              "      <th>2</th>\n",
              "      <td>2005</td>\n",
              "      <td>11</td>\n",
              "      <td>RO</td>\n",
              "      <td>1100205</td>\n",
              "      <td>Porto Velho</td>\n",
              "      <td>11000058</td>\n",
              "      <td>CENTRO DE ENSINO CLASSE A</td>\n",
              "      <td>4</td>\n",
              "      <td>1</td>\n",
              "      <td>220</td>\n",
              "      <td>NaN</td>\n",
              "      <td>145</td>\n",
              "      <td>NaN</td>\n",
              "      <td>NaN</td>\n",
              "      <td>NaN</td>\n",
              "      <td>NaN</td>\n",
              "      <td>NaN</td>\n",
              "      <td>NaN</td>\n",
              "      <td>NaN</td>\n",
              "      <td>64.83</td>\n",
              "      <td>NaN</td>\n",
              "      <td>NaN</td>\n",
              "      <td>NaN</td>\n",
              "      <td>86.5</td>\n",
              "      <td>12.4</td>\n",
              "      <td>1.1</td>\n",
              "      <td>Maior que 90 alunos</td>\n",
              "    </tr>\n",
              "    <tr>\n",
              "      <th>3</th>\n",
              "      <td>2008</td>\n",
              "      <td>11</td>\n",
              "      <td>RO</td>\n",
              "      <td>1100205</td>\n",
              "      <td>Porto Velho</td>\n",
              "      <td>11000058</td>\n",
              "      <td>CENTRO DE ENSINO CLASSE A</td>\n",
              "      <td>4</td>\n",
              "      <td>1</td>\n",
              "      <td>186</td>\n",
              "      <td>NaN</td>\n",
              "      <td>171</td>\n",
              "      <td>NaN</td>\n",
              "      <td>NaN</td>\n",
              "      <td>NaN</td>\n",
              "      <td>NaN</td>\n",
              "      <td>NaN</td>\n",
              "      <td>72.16</td>\n",
              "      <td>60.02</td>\n",
              "      <td>NaN</td>\n",
              "      <td>NaN</td>\n",
              "      <td>NaN</td>\n",
              "      <td>NaN</td>\n",
              "      <td>90.3</td>\n",
              "      <td>9.7</td>\n",
              "      <td>0.0</td>\n",
              "      <td>Maior que 90 alunos</td>\n",
              "    </tr>\n",
              "    <tr>\n",
              "      <th>4</th>\n",
              "      <td>2007</td>\n",
              "      <td>11</td>\n",
              "      <td>RO</td>\n",
              "      <td>1100205</td>\n",
              "      <td>Porto Velho</td>\n",
              "      <td>11000171</td>\n",
              "      <td>CENTRO EDUCACIONAL MOJUCA</td>\n",
              "      <td>4</td>\n",
              "      <td>1</td>\n",
              "      <td>19</td>\n",
              "      <td>NaN</td>\n",
              "      <td>12</td>\n",
              "      <td>NaN</td>\n",
              "      <td>NaN</td>\n",
              "      <td>NaN</td>\n",
              "      <td>NaN</td>\n",
              "      <td>NaN</td>\n",
              "      <td>NaN</td>\n",
              "      <td>NaN</td>\n",
              "      <td>58.84</td>\n",
              "      <td>NaN</td>\n",
              "      <td>NaN</td>\n",
              "      <td>NaN</td>\n",
              "      <td>74.2</td>\n",
              "      <td>21.0</td>\n",
              "      <td>4.8</td>\n",
              "      <td>De 1 a 30 alunos</td>\n",
              "    </tr>\n",
              "  </tbody>\n",
              "</table>\n",
              "</div>"
            ],
            "text/plain": [
              "   NU_ANO  CO_UF_ESCOLA  ... NU_TAXA_ABANDONO         PORTE_ESCOLA\n",
              "0    2007            11  ...              0.0  Maior que 90 alunos\n",
              "1    2006            11  ...              NaN  Maior que 90 alunos\n",
              "2    2005            11  ...              1.1  Maior que 90 alunos\n",
              "3    2008            11  ...              0.0  Maior que 90 alunos\n",
              "4    2007            11  ...              4.8     De 1 a 30 alunos\n",
              "\n",
              "[5 rows x 27 columns]"
            ]
          },
          "metadata": {
            "tags": []
          },
          "execution_count": 30
        }
      ]
    },
    {
      "cell_type": "code",
      "metadata": {
        "id": "-kv2K9NIxFNz",
        "colab_type": "code",
        "colab": {
          "base_uri": "https://localhost:8080/",
          "height": 34
        },
        "outputId": "1c7e61df-c245-42c6-fd01-4cb5b4da0913"
      },
      "source": [
        "#imprime o numero de linhas e colunas do dataframe\n",
        "df.shape"
      ],
      "execution_count": null,
      "outputs": [
        {
          "output_type": "execute_result",
          "data": {
            "text/plain": [
              "(172305, 27)"
            ]
          },
          "metadata": {
            "tags": []
          },
          "execution_count": 31
        }
      ]
    },
    {
      "cell_type": "code",
      "metadata": {
        "id": "jr6FuJrwxFN5",
        "colab_type": "code",
        "colab": {
          "base_uri": "https://localhost:8080/",
          "height": 493
        },
        "outputId": "0b5890dc-92b7-4e46-b84b-b399d44cf831"
      },
      "source": [
        "#imprime o tipo de dado em cada coluna\n",
        "df.dtypes"
      ],
      "execution_count": null,
      "outputs": [
        {
          "output_type": "execute_result",
          "data": {
            "text/plain": [
              "NU_ANO                         int64\n",
              "CO_UF_ESCOLA                   int64\n",
              "SG_UF_ESCOLA                  object\n",
              "CO_MUNICIPIO_ESCOLA            int64\n",
              "NO_MUNICIPIO_ESCOLA           object\n",
              "CO_ESCOLA_EDUCACENSO           int64\n",
              "NO_ESCOLA_EDUCACENSO          object\n",
              "TP_DEPENDENCIA_ADM_ESCOLA      int64\n",
              "TP_LOCALIZACAO_ESCOLA          int64\n",
              "NU_MATRICULAS                  int64\n",
              "NU_PARTICIPANTES_NEC_ESP     float64\n",
              "NU_PARTICIPANTES               int64\n",
              "NU_TAXA_PARTICIPACAO         float64\n",
              "NU_MEDIA_CN                  float64\n",
              "NU_MEDIA_CH                  float64\n",
              "NU_MEDIA_LP                  float64\n",
              "NU_MEDIA_MT                  float64\n",
              "NU_MEDIA_RED                 float64\n",
              "NU_MEDIA_OBJ                 float64\n",
              "NU_MEDIA_TOT                 float64\n",
              "INSE                          object\n",
              "PC_FORMACAO_DOCENTE          float64\n",
              "NU_TAXA_PERMANENCIA          float64\n",
              "NU_TAXA_APROVACAO            float64\n",
              "NU_TAXA_REPROVACAO           float64\n",
              "NU_TAXA_ABANDONO             float64\n",
              "PORTE_ESCOLA                  object\n",
              "dtype: object"
            ]
          },
          "metadata": {
            "tags": []
          },
          "execution_count": 32
        }
      ]
    },
    {
      "cell_type": "code",
      "metadata": {
        "id": "StHbiCgdxFOA",
        "colab_type": "code",
        "colab": {
          "base_uri": "https://localhost:8080/",
          "height": 476
        },
        "outputId": "09cce4a9-bded-4f76-d419-cbc8c41aed00"
      },
      "source": [
        "#lista o nome das colunas do dataframe\n",
        "list(df.columns)"
      ],
      "execution_count": null,
      "outputs": [
        {
          "output_type": "execute_result",
          "data": {
            "text/plain": [
              "['NU_ANO',\n",
              " 'CO_UF_ESCOLA',\n",
              " 'SG_UF_ESCOLA',\n",
              " 'CO_MUNICIPIO_ESCOLA',\n",
              " 'NO_MUNICIPIO_ESCOLA',\n",
              " 'CO_ESCOLA_EDUCACENSO',\n",
              " 'NO_ESCOLA_EDUCACENSO',\n",
              " 'TP_DEPENDENCIA_ADM_ESCOLA',\n",
              " 'TP_LOCALIZACAO_ESCOLA',\n",
              " 'NU_MATRICULAS',\n",
              " 'NU_PARTICIPANTES_NEC_ESP',\n",
              " 'NU_PARTICIPANTES',\n",
              " 'NU_TAXA_PARTICIPACAO',\n",
              " 'NU_MEDIA_CN',\n",
              " 'NU_MEDIA_CH',\n",
              " 'NU_MEDIA_LP',\n",
              " 'NU_MEDIA_MT',\n",
              " 'NU_MEDIA_RED',\n",
              " 'NU_MEDIA_OBJ',\n",
              " 'NU_MEDIA_TOT',\n",
              " 'INSE',\n",
              " 'PC_FORMACAO_DOCENTE',\n",
              " 'NU_TAXA_PERMANENCIA',\n",
              " 'NU_TAXA_APROVACAO',\n",
              " 'NU_TAXA_REPROVACAO',\n",
              " 'NU_TAXA_ABANDONO',\n",
              " 'PORTE_ESCOLA']"
            ]
          },
          "metadata": {
            "tags": []
          },
          "execution_count": 33
        }
      ]
    },
    {
      "cell_type": "markdown",
      "metadata": {
        "id": "LjgjXJFrxFOH",
        "colab_type": "text"
      },
      "source": [
        "## Remoção de colunas"
      ]
    },
    {
      "cell_type": "code",
      "metadata": {
        "id": "WFt371r4xFOI",
        "colab_type": "code",
        "colab": {}
      },
      "source": [
        "#remove colunas desnecessárias\n",
        "df.drop(['TP_DEPENDENCIA_ADM_ESCOLA',\n",
        "         'TP_LOCALIZACAO_ESCOLA',\n",
        "         'NU_MATRICULAS',\n",
        "         'NU_PARTICIPANTES_NEC_ESP',\n",
        "         'NU_PARTICIPANTES',\n",
        "         'NU_TAXA_PARTICIPACAO'], axis=1,inplace=True)"
      ],
      "execution_count": null,
      "outputs": []
    },
    {
      "cell_type": "code",
      "metadata": {
        "id": "OIIemx90xFOQ",
        "colab_type": "code",
        "colab": {}
      },
      "source": [
        "#remove mais colunas\n",
        "#como a analise leva em consideracao os exames de 2009 a 2015\n",
        "#as colunas 'NU_MEDIA_OBJ','NU_MEDIA_TOT' são desnecessárias\n",
        "#levando em conta a alteracao do formato da prova\n",
        "df.drop(['NU_MEDIA_TOT',\n",
        "         'NU_MEDIA_OBJ',\n",
        "         'INSE',\n",
        "         'PC_FORMACAO_DOCENTE',\n",
        "         'NU_TAXA_PERMANENCIA',\n",
        "         'NU_TAXA_APROVACAO',\n",
        "         'NU_TAXA_REPROVACAO',\n",
        "         'NU_TAXA_ABANDONO',\n",
        "         'PORTE_ESCOLA'], axis=1, inplace=True)"
      ],
      "execution_count": null,
      "outputs": []
    },
    {
      "cell_type": "code",
      "metadata": {
        "id": "k8hFcG_bxFOW",
        "colab_type": "code",
        "colab": {
          "base_uri": "https://localhost:8080/"
        },
        "outputId": "3f0761f9-e555-4e2f-89eb-6228e862cd05"
      },
      "source": [
        "df.shape"
      ],
      "execution_count": null,
      "outputs": [
        {
          "output_type": "execute_result",
          "data": {
            "text/plain": [
              "(172305, 12)"
            ]
          },
          "metadata": {
            "tags": []
          },
          "execution_count": 36
        }
      ]
    },
    {
      "cell_type": "markdown",
      "metadata": {
        "id": "8VjIrSUnWgO_",
        "colab_type": "text"
      },
      "source": [
        "## Tratamento de dados faltantes  "
      ]
    },
    {
      "cell_type": "code",
      "metadata": {
        "id": "AHswhQiHWwXs",
        "colab_type": "code",
        "colab": {
          "base_uri": "https://localhost:8080/"
        },
        "outputId": "0f42fd5c-2096-411b-aa34-423b88abc5a9"
      },
      "source": [
        "#verificando se existem valores faltantes nos dados\n",
        "df.isna().any()"
      ],
      "execution_count": null,
      "outputs": [
        {
          "output_type": "execute_result",
          "data": {
            "text/plain": [
              "NU_ANO                  False\n",
              "CO_UF_ESCOLA            False\n",
              "SG_UF_ESCOLA            False\n",
              "CO_MUNICIPIO_ESCOLA     False\n",
              "NO_MUNICIPIO_ESCOLA     False\n",
              "CO_ESCOLA_EDUCACENSO    False\n",
              "NO_ESCOLA_EDUCACENSO    False\n",
              "NU_MEDIA_CN              True\n",
              "NU_MEDIA_CH              True\n",
              "NU_MEDIA_LP              True\n",
              "NU_MEDIA_MT              True\n",
              "NU_MEDIA_RED             True\n",
              "dtype: bool"
            ]
          },
          "metadata": {
            "tags": []
          },
          "execution_count": 37
        }
      ]
    },
    {
      "cell_type": "code",
      "metadata": {
        "id": "YQQL7WxVW2ai",
        "colab_type": "code",
        "colab": {
          "base_uri": "https://localhost:8080/"
        },
        "outputId": "5c3df56e-ddf1-4473-b021-7d890dbd5928"
      },
      "source": [
        "#verificando se existem valores faltantes nos dados\n",
        "df.isna().sum()"
      ],
      "execution_count": null,
      "outputs": [
        {
          "output_type": "execute_result",
          "data": {
            "text/plain": [
              "NU_ANO                      0\n",
              "CO_UF_ESCOLA                0\n",
              "SG_UF_ESCOLA                0\n",
              "CO_MUNICIPIO_ESCOLA         0\n",
              "NO_MUNICIPIO_ESCOLA         0\n",
              "CO_ESCOLA_EDUCACENSO        0\n",
              "NO_ESCOLA_EDUCACENSO        0\n",
              "NU_MEDIA_CN             67618\n",
              "NU_MEDIA_CH             67618\n",
              "NU_MEDIA_LP             67618\n",
              "NU_MEDIA_MT             67618\n",
              "NU_MEDIA_RED            48854\n",
              "dtype: int64"
            ]
          },
          "metadata": {
            "tags": []
          },
          "execution_count": 38
        }
      ]
    },
    {
      "cell_type": "code",
      "metadata": {
        "id": "AY4f5SkVXD7e",
        "colab_type": "code",
        "colab": {}
      },
      "source": [
        "#descartando as linhas que tem poucos valores faltantes\n",
        "df.dropna(axis=0, subset=['NU_MEDIA_CN', 'NU_MEDIA_CH', 'NU_MEDIA_LP', 'NU_MEDIA_MT', 'NU_MEDIA_RED'],inplace=True)"
      ],
      "execution_count": null,
      "outputs": []
    },
    {
      "cell_type": "code",
      "metadata": {
        "id": "4CDAdtR4XfQz",
        "colab_type": "code",
        "colab": {
          "base_uri": "https://localhost:8080/"
        },
        "outputId": "509801b3-020f-4cfa-9b90-784f01055ece"
      },
      "source": [
        "#verificando quantas linhas de dados ainda estão no dataframe. Perdemos cerca de 39,46% dos dados\n",
        "df.shape"
      ],
      "execution_count": null,
      "outputs": [
        {
          "output_type": "execute_result",
          "data": {
            "text/plain": [
              "(104307, 12)"
            ]
          },
          "metadata": {
            "tags": []
          },
          "execution_count": 40
        }
      ]
    },
    {
      "cell_type": "code",
      "metadata": {
        "id": "XeROBe6cXlRh",
        "colab_type": "code",
        "colab": {
          "base_uri": "https://localhost:8080/"
        },
        "outputId": "c43f27e6-0191-47e2-a3f2-036ff0695d3e"
      },
      "source": [
        "#verificando novamente se existem valores faltantes nos dados\n",
        "df.isna().sum()"
      ],
      "execution_count": null,
      "outputs": [
        {
          "output_type": "execute_result",
          "data": {
            "text/plain": [
              "NU_ANO                  0\n",
              "CO_UF_ESCOLA            0\n",
              "SG_UF_ESCOLA            0\n",
              "CO_MUNICIPIO_ESCOLA     0\n",
              "NO_MUNICIPIO_ESCOLA     0\n",
              "CO_ESCOLA_EDUCACENSO    0\n",
              "NO_ESCOLA_EDUCACENSO    0\n",
              "NU_MEDIA_CN             0\n",
              "NU_MEDIA_CH             0\n",
              "NU_MEDIA_LP             0\n",
              "NU_MEDIA_MT             0\n",
              "NU_MEDIA_RED            0\n",
              "dtype: int64"
            ]
          },
          "metadata": {
            "tags": []
          },
          "execution_count": 41
        }
      ]
    },
    {
      "cell_type": "markdown",
      "metadata": {
        "id": "RuJUzaFNUe5f",
        "colab_type": "text"
      },
      "source": [
        "## Inclusão de média das notas de cada escola"
      ]
    },
    {
      "cell_type": "code",
      "metadata": {
        "id": "2eC7M4T-xFQB",
        "colab_type": "code",
        "colab": {}
      },
      "source": [
        "#calculando a media simples das notas\n",
        "df['MEDIA TOTAL'] = (df['NU_MEDIA_RED'] + df['NU_MEDIA_MT'] + df['NU_MEDIA_LP'] + df['NU_MEDIA_CN'] + df['NU_MEDIA_CH'])/5\n",
        "\n",
        "\n"
      ],
      "execution_count": null,
      "outputs": []
    },
    {
      "cell_type": "code",
      "metadata": {
        "id": "AZc7rAIUxFQJ",
        "colab_type": "code",
        "colab": {
          "base_uri": "https://localhost:8080/",
          "height": 326
        },
        "outputId": "7e209707-8dfd-4303-be49-1b8ff9acbebd"
      },
      "source": [
        "df.head()"
      ],
      "execution_count": null,
      "outputs": [
        {
          "output_type": "execute_result",
          "data": {
            "text/html": [
              "<div>\n",
              "<style scoped>\n",
              "    .dataframe tbody tr th:only-of-type {\n",
              "        vertical-align: middle;\n",
              "    }\n",
              "\n",
              "    .dataframe tbody tr th {\n",
              "        vertical-align: top;\n",
              "    }\n",
              "\n",
              "    .dataframe thead th {\n",
              "        text-align: right;\n",
              "    }\n",
              "</style>\n",
              "<table border=\"1\" class=\"dataframe\">\n",
              "  <thead>\n",
              "    <tr style=\"text-align: right;\">\n",
              "      <th></th>\n",
              "      <th>NU_ANO</th>\n",
              "      <th>CO_UF_ESCOLA</th>\n",
              "      <th>SG_UF_ESCOLA</th>\n",
              "      <th>CO_MUNICIPIO_ESCOLA</th>\n",
              "      <th>NO_MUNICIPIO_ESCOLA</th>\n",
              "      <th>CO_ESCOLA_EDUCACENSO</th>\n",
              "      <th>NO_ESCOLA_EDUCACENSO</th>\n",
              "      <th>NU_MEDIA_CN</th>\n",
              "      <th>NU_MEDIA_CH</th>\n",
              "      <th>NU_MEDIA_LP</th>\n",
              "      <th>NU_MEDIA_MT</th>\n",
              "      <th>NU_MEDIA_RED</th>\n",
              "      <th>MEDIA TOTAL</th>\n",
              "    </tr>\n",
              "  </thead>\n",
              "  <tbody>\n",
              "    <tr>\n",
              "      <th>67618</th>\n",
              "      <td>2014</td>\n",
              "      <td>11</td>\n",
              "      <td>RO</td>\n",
              "      <td>1100205</td>\n",
              "      <td>Porto Velho</td>\n",
              "      <td>11000058</td>\n",
              "      <td>CENTRO DE ENSINO CLASSE A</td>\n",
              "      <td>604.88</td>\n",
              "      <td>647.29</td>\n",
              "      <td>592.34</td>\n",
              "      <td>629.14</td>\n",
              "      <td>718.53</td>\n",
              "      <td>638.436</td>\n",
              "    </tr>\n",
              "    <tr>\n",
              "      <th>67619</th>\n",
              "      <td>2015</td>\n",
              "      <td>11</td>\n",
              "      <td>RO</td>\n",
              "      <td>1100205</td>\n",
              "      <td>Porto Velho</td>\n",
              "      <td>11000058</td>\n",
              "      <td>CENTRO DE ENSINO CLASSE A</td>\n",
              "      <td>591.64</td>\n",
              "      <td>652.34</td>\n",
              "      <td>604.53</td>\n",
              "      <td>627.66</td>\n",
              "      <td>732.00</td>\n",
              "      <td>641.634</td>\n",
              "    </tr>\n",
              "    <tr>\n",
              "      <th>67620</th>\n",
              "      <td>2009</td>\n",
              "      <td>11</td>\n",
              "      <td>RO</td>\n",
              "      <td>1100205</td>\n",
              "      <td>Porto Velho</td>\n",
              "      <td>11000058</td>\n",
              "      <td>CENTRO DE ENSINO CLASSE A</td>\n",
              "      <td>622.92</td>\n",
              "      <td>624.16</td>\n",
              "      <td>598.73</td>\n",
              "      <td>592.42</td>\n",
              "      <td>707.29</td>\n",
              "      <td>629.104</td>\n",
              "    </tr>\n",
              "    <tr>\n",
              "      <th>67621</th>\n",
              "      <td>2011</td>\n",
              "      <td>11</td>\n",
              "      <td>RO</td>\n",
              "      <td>1100205</td>\n",
              "      <td>Porto Velho</td>\n",
              "      <td>11000058</td>\n",
              "      <td>CENTRO DE ENSINO CLASSE A</td>\n",
              "      <td>589.18</td>\n",
              "      <td>587.03</td>\n",
              "      <td>617.56</td>\n",
              "      <td>683.44</td>\n",
              "      <td>649.24</td>\n",
              "      <td>625.290</td>\n",
              "    </tr>\n",
              "    <tr>\n",
              "      <th>67622</th>\n",
              "      <td>2012</td>\n",
              "      <td>11</td>\n",
              "      <td>RO</td>\n",
              "      <td>1100205</td>\n",
              "      <td>Porto Velho</td>\n",
              "      <td>11000058</td>\n",
              "      <td>CENTRO DE ENSINO CLASSE A</td>\n",
              "      <td>587.74</td>\n",
              "      <td>624.71</td>\n",
              "      <td>576.79</td>\n",
              "      <td>660.32</td>\n",
              "      <td>653.02</td>\n",
              "      <td>620.516</td>\n",
              "    </tr>\n",
              "  </tbody>\n",
              "</table>\n",
              "</div>"
            ],
            "text/plain": [
              "       NU_ANO  CO_UF_ESCOLA  ... NU_MEDIA_RED  MEDIA TOTAL\n",
              "67618    2014            11  ...       718.53      638.436\n",
              "67619    2015            11  ...       732.00      641.634\n",
              "67620    2009            11  ...       707.29      629.104\n",
              "67621    2011            11  ...       649.24      625.290\n",
              "67622    2012            11  ...       653.02      620.516\n",
              "\n",
              "[5 rows x 13 columns]"
            ]
          },
          "metadata": {
            "tags": []
          },
          "execution_count": 43
        }
      ]
    },
    {
      "cell_type": "code",
      "metadata": {
        "id": "7yt02mVfxFQR",
        "colab_type": "code",
        "colab": {}
      },
      "source": [
        "# #removendo linhas de dados de anos anteriores a 2009\n",
        "# df.drop(df[df.NU_ANO < 2009].index, inplace=True)"
      ],
      "execution_count": null,
      "outputs": []
    },
    {
      "cell_type": "code",
      "metadata": {
        "id": "RNn05GMFxFQX",
        "colab_type": "code",
        "colab": {}
      },
      "source": [
        "#altera index para 0 - len(df)\n",
        "indices = list(range(0, len(df)))\n",
        "df.index = indices"
      ],
      "execution_count": null,
      "outputs": []
    },
    {
      "cell_type": "code",
      "metadata": {
        "id": "xRo2Bi94vtBj",
        "colab_type": "code",
        "colab": {
          "base_uri": "https://localhost:8080/",
          "height": 204
        },
        "outputId": "cdfdb461-ae08-4336-a9db-488536cdd43e"
      },
      "source": [
        "\n",
        "df = df.groupby(['CO_ESCOLA_EDUCACENSO'], as_index=False)['MEDIA TOTAL'].mean()\n",
        "df.head()"
      ],
      "execution_count": null,
      "outputs": [
        {
          "output_type": "execute_result",
          "data": {
            "text/html": [
              "<div>\n",
              "<style scoped>\n",
              "    .dataframe tbody tr th:only-of-type {\n",
              "        vertical-align: middle;\n",
              "    }\n",
              "\n",
              "    .dataframe tbody tr th {\n",
              "        vertical-align: top;\n",
              "    }\n",
              "\n",
              "    .dataframe thead th {\n",
              "        text-align: right;\n",
              "    }\n",
              "</style>\n",
              "<table border=\"1\" class=\"dataframe\">\n",
              "  <thead>\n",
              "    <tr style=\"text-align: right;\">\n",
              "      <th></th>\n",
              "      <th>CO_ESCOLA_EDUCACENSO</th>\n",
              "      <th>MEDIA TOTAL</th>\n",
              "    </tr>\n",
              "  </thead>\n",
              "  <tbody>\n",
              "    <tr>\n",
              "      <th>0</th>\n",
              "      <td>11000058</td>\n",
              "      <td>631.583429</td>\n",
              "    </tr>\n",
              "    <tr>\n",
              "      <th>1</th>\n",
              "      <td>11000171</td>\n",
              "      <td>507.097000</td>\n",
              "    </tr>\n",
              "    <tr>\n",
              "      <th>2</th>\n",
              "      <td>11000180</td>\n",
              "      <td>502.575333</td>\n",
              "    </tr>\n",
              "    <tr>\n",
              "      <th>3</th>\n",
              "      <td>11000198</td>\n",
              "      <td>570.662571</td>\n",
              "    </tr>\n",
              "    <tr>\n",
              "      <th>4</th>\n",
              "      <td>11000244</td>\n",
              "      <td>562.182000</td>\n",
              "    </tr>\n",
              "  </tbody>\n",
              "</table>\n",
              "</div>"
            ],
            "text/plain": [
              "   CO_ESCOLA_EDUCACENSO  MEDIA TOTAL\n",
              "0              11000058   631.583429\n",
              "1              11000171   507.097000\n",
              "2              11000180   502.575333\n",
              "3              11000198   570.662571\n",
              "4              11000244   562.182000"
            ]
          },
          "metadata": {
            "tags": []
          },
          "execution_count": 45
        }
      ]
    },
    {
      "cell_type": "code",
      "metadata": {
        "id": "iNZsAlFbwuUN",
        "colab_type": "code",
        "colab": {}
      },
      "source": [
        "#salvando df\n",
        "df.to_csv('tratamento-dados-enem.csv', index=False)"
      ],
      "execution_count": null,
      "outputs": []
    },
    {
      "cell_type": "markdown",
      "metadata": {
        "id": "B-g5P63rq5DV",
        "colab_type": "text"
      },
      "source": [
        "# Tratamento dados de localização das escolas"
      ]
    },
    {
      "cell_type": "code",
      "metadata": {
        "id": "hBRC63NRrAi6",
        "colab_type": "code",
        "colab": {}
      },
      "source": [
        "listaEscolas = pd.read_csv('/content/drive/My Drive/Colab Notebooks/enem/Análise - Tabela da lista das escolas - Detalhado.csv', encoding = 'utf-8', sep=';')"
      ],
      "execution_count": null,
      "outputs": []
    },
    {
      "cell_type": "code",
      "metadata": {
        "id": "PNIrG_r0wMb1",
        "colab_type": "code",
        "colab": {
          "base_uri": "https://localhost:8080/",
          "height": 598
        },
        "outputId": "81b24e23-934f-4972-ced6-d8827a93e754"
      },
      "source": [
        "listaEscolas.head()"
      ],
      "execution_count": null,
      "outputs": [
        {
          "output_type": "execute_result",
          "data": {
            "text/html": [
              "<div>\n",
              "<style scoped>\n",
              "    .dataframe tbody tr th:only-of-type {\n",
              "        vertical-align: middle;\n",
              "    }\n",
              "\n",
              "    .dataframe tbody tr th {\n",
              "        vertical-align: top;\n",
              "    }\n",
              "\n",
              "    .dataframe thead th {\n",
              "        text-align: right;\n",
              "    }\n",
              "</style>\n",
              "<table border=\"1\" class=\"dataframe\">\n",
              "  <thead>\n",
              "    <tr style=\"text-align: right;\">\n",
              "      <th></th>\n",
              "      <th>Restrição de Atendimento</th>\n",
              "      <th>Escola</th>\n",
              "      <th>Código INEP</th>\n",
              "      <th>UF</th>\n",
              "      <th>Município</th>\n",
              "      <th>Localização</th>\n",
              "      <th>Localidade Diferenciada</th>\n",
              "      <th>Categoria Administrativa</th>\n",
              "      <th>Endereço</th>\n",
              "      <th>Telefone</th>\n",
              "      <th>Dependência Administrativa</th>\n",
              "      <th>Categoria Escola Privada</th>\n",
              "      <th>Conveniada Poder Público</th>\n",
              "      <th>Regulamentação pelo Conselho de Educação</th>\n",
              "      <th>Porte da Escola</th>\n",
              "      <th>Etapas e Modalidade de Ensino Oferecidas</th>\n",
              "      <th>Outras Ofertas Educacionais</th>\n",
              "      <th>Latitude</th>\n",
              "      <th>Longitude</th>\n",
              "    </tr>\n",
              "  </thead>\n",
              "  <tbody>\n",
              "    <tr>\n",
              "      <th>0</th>\n",
              "      <td>ESCOLA ATENDE EXCLUSIVAMENTE ALUNOS COM DEFICI...</td>\n",
              "      <td>EEEE ABNAEL MACHADO DE LIMA - CENE</td>\n",
              "      <td>11000023</td>\n",
              "      <td>RO</td>\n",
              "      <td>Porto Velho</td>\n",
              "      <td>Urbana</td>\n",
              "      <td>A escola não está em área de localização difer...</td>\n",
              "      <td>Pública</td>\n",
              "      <td>AVENIDA AMAZONAS, 6492 ZONA LESTE. TIRADENTES....</td>\n",
              "      <td>(69) 992083054</td>\n",
              "      <td>Estadual</td>\n",
              "      <td>Não Informado</td>\n",
              "      <td>Não</td>\n",
              "      <td>Não</td>\n",
              "      <td>Entre 51 e 200 matrículas de escolarização</td>\n",
              "      <td>Ensino Fundamental</td>\n",
              "      <td>Atendimento Educacional Especializado</td>\n",
              "      <td>-8.758459</td>\n",
              "      <td>-63.854011</td>\n",
              "    </tr>\n",
              "    <tr>\n",
              "      <th>1</th>\n",
              "      <td>ESCOLA EM FUNCIONAMENTO E SEM RESTRIÇÃO DE ATE...</td>\n",
              "      <td>EMEIEF PEQUENOS TALENTOS</td>\n",
              "      <td>11000040</td>\n",
              "      <td>RO</td>\n",
              "      <td>Porto Velho</td>\n",
              "      <td>Urbana</td>\n",
              "      <td>A escola não está em área de localização difer...</td>\n",
              "      <td>Pública</td>\n",
              "      <td>RUA CAETANO, 3256 PREDIO. CALADINHO. 76808-108...</td>\n",
              "      <td>(69) 32135237</td>\n",
              "      <td>Municipal</td>\n",
              "      <td>Não Informado</td>\n",
              "      <td>Não</td>\n",
              "      <td>Sim</td>\n",
              "      <td>Entre 201 e 500 matrículas de escolarização</td>\n",
              "      <td>Educação Infantil</td>\n",
              "      <td>NaN</td>\n",
              "      <td>-8.793730</td>\n",
              "      <td>-63.883919</td>\n",
              "    </tr>\n",
              "    <tr>\n",
              "      <th>2</th>\n",
              "      <td>ESCOLA EM FUNCIONAMENTO E SEM RESTRIÇÃO DE ATE...</td>\n",
              "      <td>CENTRO DE ENSINO CLASSE A</td>\n",
              "      <td>11000058</td>\n",
              "      <td>RO</td>\n",
              "      <td>Porto Velho</td>\n",
              "      <td>Urbana</td>\n",
              "      <td>A escola não está em área de localização difer...</td>\n",
              "      <td>Privada</td>\n",
              "      <td>AVENIDA CARLOS GOMES, 1135 CENTRO. 76801-123 P...</td>\n",
              "      <td>(69) 32244473</td>\n",
              "      <td>Privada</td>\n",
              "      <td>Particular</td>\n",
              "      <td>Não</td>\n",
              "      <td>Sim</td>\n",
              "      <td>Mais de 1000 matrículas de escolarização</td>\n",
              "      <td>Educação Infantil, Ensino Fundamental, Ensino ...</td>\n",
              "      <td>NaN</td>\n",
              "      <td>-8.760734</td>\n",
              "      <td>-63.901986</td>\n",
              "    </tr>\n",
              "    <tr>\n",
              "      <th>3</th>\n",
              "      <td>ESCOLA EM FUNCIONAMENTO E SEM RESTRIÇÃO DE ATE...</td>\n",
              "      <td>CENTRO EDUCACIONAL PRESBITERIANO 15 DE NOVEMBRO</td>\n",
              "      <td>11000082</td>\n",
              "      <td>RO</td>\n",
              "      <td>Porto Velho</td>\n",
              "      <td>Urbana</td>\n",
              "      <td>A escola não está em área de localização difer...</td>\n",
              "      <td>Privada</td>\n",
              "      <td>RUA ALMIRANTE BARROSO, 1483 SANTA BARBARA. 768...</td>\n",
              "      <td>(69) 32245636</td>\n",
              "      <td>Privada</td>\n",
              "      <td>Particular</td>\n",
              "      <td>Não</td>\n",
              "      <td>Sim</td>\n",
              "      <td>Entre 51 e 200 matrículas de escolarização</td>\n",
              "      <td>Educação Infantil, Ensino Fundamental</td>\n",
              "      <td>NaN</td>\n",
              "      <td>-8.765205</td>\n",
              "      <td>-63.896177</td>\n",
              "    </tr>\n",
              "    <tr>\n",
              "      <th>4</th>\n",
              "      <td>ESCOLA EM FUNCIONAMENTO E SEM RESTRIÇÃO DE ATE...</td>\n",
              "      <td>CENTRO EDUC CORA CORALINA</td>\n",
              "      <td>11000104</td>\n",
              "      <td>RO</td>\n",
              "      <td>Porto Velho</td>\n",
              "      <td>Urbana</td>\n",
              "      <td>A escola não está em área de localização difer...</td>\n",
              "      <td>Privada</td>\n",
              "      <td>RUA MEXICO, 1056 NOVA PORTO VELHO. 76820-190 P...</td>\n",
              "      <td>(69) 32252616</td>\n",
              "      <td>Privada</td>\n",
              "      <td>Particular</td>\n",
              "      <td>Não</td>\n",
              "      <td>Sim</td>\n",
              "      <td>Entre 501 e 1000 matrículas de escolarização</td>\n",
              "      <td>Educação Infantil, Ensino Fundamental</td>\n",
              "      <td>NaN</td>\n",
              "      <td>-8.768632</td>\n",
              "      <td>-63.875471</td>\n",
              "    </tr>\n",
              "  </tbody>\n",
              "</table>\n",
              "</div>"
            ],
            "text/plain": [
              "                            Restrição de Atendimento  ...  Longitude\n",
              "0  ESCOLA ATENDE EXCLUSIVAMENTE ALUNOS COM DEFICI...  ... -63.854011\n",
              "1  ESCOLA EM FUNCIONAMENTO E SEM RESTRIÇÃO DE ATE...  ... -63.883919\n",
              "2  ESCOLA EM FUNCIONAMENTO E SEM RESTRIÇÃO DE ATE...  ... -63.901986\n",
              "3  ESCOLA EM FUNCIONAMENTO E SEM RESTRIÇÃO DE ATE...  ... -63.896177\n",
              "4  ESCOLA EM FUNCIONAMENTO E SEM RESTRIÇÃO DE ATE...  ... -63.875471\n",
              "\n",
              "[5 rows x 19 columns]"
            ]
          },
          "metadata": {
            "tags": []
          },
          "execution_count": 48
        }
      ]
    },
    {
      "cell_type": "code",
      "metadata": {
        "id": "cjtaENnqryhy",
        "colab_type": "code",
        "colab": {}
      },
      "source": [
        "#exclusao de colunas que não serão utilizadas\n",
        "listaEscolas.drop(['Localização',\t'Localidade Diferenciada',\t'Categoria Administrativa',\t\n",
        "                   'Endereço',\t'Telefone',\t'Dependência Administrativa',\t'Categoria Escola Privada',\n",
        "                   'Conveniada Poder Público',\t'Regulamentação pelo Conselho de Educação',\t'Porte da Escola',\n",
        "                   'Etapas e Modalidade de Ensino Oferecidas', 'Outras Ofertas Educacionais', 'Restrição de Atendimento'], \n",
        "                    axis = 1, inplace=True)"
      ],
      "execution_count": null,
      "outputs": []
    },
    {
      "cell_type": "code",
      "metadata": {
        "id": "f_ifwgtkwT3s",
        "colab_type": "code",
        "colab": {
          "base_uri": "https://localhost:8080/",
          "height": 306
        },
        "outputId": "1f97cbe6-992c-4177-eaa0-7d19ccc43e30"
      },
      "source": [
        "listaEscolas.head()"
      ],
      "execution_count": null,
      "outputs": [
        {
          "output_type": "execute_result",
          "data": {
            "text/html": [
              "<div>\n",
              "<style scoped>\n",
              "    .dataframe tbody tr th:only-of-type {\n",
              "        vertical-align: middle;\n",
              "    }\n",
              "\n",
              "    .dataframe tbody tr th {\n",
              "        vertical-align: top;\n",
              "    }\n",
              "\n",
              "    .dataframe thead th {\n",
              "        text-align: right;\n",
              "    }\n",
              "</style>\n",
              "<table border=\"1\" class=\"dataframe\">\n",
              "  <thead>\n",
              "    <tr style=\"text-align: right;\">\n",
              "      <th></th>\n",
              "      <th>Escola</th>\n",
              "      <th>Código INEP</th>\n",
              "      <th>UF</th>\n",
              "      <th>Município</th>\n",
              "      <th>Latitude</th>\n",
              "      <th>Longitude</th>\n",
              "    </tr>\n",
              "  </thead>\n",
              "  <tbody>\n",
              "    <tr>\n",
              "      <th>0</th>\n",
              "      <td>EEEE ABNAEL MACHADO DE LIMA - CENE</td>\n",
              "      <td>11000023</td>\n",
              "      <td>RO</td>\n",
              "      <td>Porto Velho</td>\n",
              "      <td>-8.758459</td>\n",
              "      <td>-63.854011</td>\n",
              "    </tr>\n",
              "    <tr>\n",
              "      <th>1</th>\n",
              "      <td>EMEIEF PEQUENOS TALENTOS</td>\n",
              "      <td>11000040</td>\n",
              "      <td>RO</td>\n",
              "      <td>Porto Velho</td>\n",
              "      <td>-8.793730</td>\n",
              "      <td>-63.883919</td>\n",
              "    </tr>\n",
              "    <tr>\n",
              "      <th>2</th>\n",
              "      <td>CENTRO DE ENSINO CLASSE A</td>\n",
              "      <td>11000058</td>\n",
              "      <td>RO</td>\n",
              "      <td>Porto Velho</td>\n",
              "      <td>-8.760734</td>\n",
              "      <td>-63.901986</td>\n",
              "    </tr>\n",
              "    <tr>\n",
              "      <th>3</th>\n",
              "      <td>CENTRO EDUCACIONAL PRESBITERIANO 15 DE NOVEMBRO</td>\n",
              "      <td>11000082</td>\n",
              "      <td>RO</td>\n",
              "      <td>Porto Velho</td>\n",
              "      <td>-8.765205</td>\n",
              "      <td>-63.896177</td>\n",
              "    </tr>\n",
              "    <tr>\n",
              "      <th>4</th>\n",
              "      <td>CENTRO EDUC CORA CORALINA</td>\n",
              "      <td>11000104</td>\n",
              "      <td>RO</td>\n",
              "      <td>Porto Velho</td>\n",
              "      <td>-8.768632</td>\n",
              "      <td>-63.875471</td>\n",
              "    </tr>\n",
              "  </tbody>\n",
              "</table>\n",
              "</div>"
            ],
            "text/plain": [
              "                                            Escola  ...  Longitude\n",
              "0               EEEE ABNAEL MACHADO DE LIMA - CENE  ... -63.854011\n",
              "1                         EMEIEF PEQUENOS TALENTOS  ... -63.883919\n",
              "2                        CENTRO DE ENSINO CLASSE A  ... -63.901986\n",
              "3  CENTRO EDUCACIONAL PRESBITERIANO 15 DE NOVEMBRO  ... -63.896177\n",
              "4                        CENTRO EDUC CORA CORALINA  ... -63.875471\n",
              "\n",
              "[5 rows x 6 columns]"
            ]
          },
          "metadata": {
            "tags": []
          },
          "execution_count": 50
        }
      ]
    },
    {
      "cell_type": "code",
      "metadata": {
        "id": "mHit6i7I00vy",
        "colab_type": "code",
        "colab": {
          "base_uri": "https://localhost:8080/",
          "height": 136
        },
        "outputId": "773dfb61-e5f5-4cbb-a2d4-b1a1a8f9fa9c"
      },
      "source": [
        "#verificando dados faltantes \n",
        "listaEscolas.isna().sum()"
      ],
      "execution_count": null,
      "outputs": [
        {
          "output_type": "execute_result",
          "data": {
            "text/plain": [
              "Escola             0\n",
              "Código INEP        0\n",
              "UF                 0\n",
              "Município          0\n",
              "Latitude       69786\n",
              "Longitude      69786\n",
              "dtype: int64"
            ]
          },
          "metadata": {
            "tags": []
          },
          "execution_count": 51
        }
      ]
    },
    {
      "cell_type": "code",
      "metadata": {
        "id": "hsUyK6hC1JmU",
        "colab_type": "code",
        "colab": {
          "base_uri": "https://localhost:8080/",
          "height": 34
        },
        "outputId": "0474a909-f473-4874-bca6-b7fd26b3f438"
      },
      "source": [
        "listaEscolas.shape"
      ],
      "execution_count": null,
      "outputs": [
        {
          "output_type": "execute_result",
          "data": {
            "text/plain": [
              "(222936, 6)"
            ]
          },
          "metadata": {
            "tags": []
          },
          "execution_count": 52
        }
      ]
    },
    {
      "cell_type": "code",
      "metadata": {
        "id": "jaNafdQy1N1C",
        "colab_type": "code",
        "colab": {}
      },
      "source": [
        "#descartando linhas que tem dados faltantes\n",
        "listaEscolas.dropna(axis=0, subset=['Latitude', 'Longitude'], inplace=True)"
      ],
      "execution_count": null,
      "outputs": []
    },
    {
      "cell_type": "code",
      "metadata": {
        "id": "paizHvcw1sth",
        "colab_type": "code",
        "colab": {
          "base_uri": "https://localhost:8080/",
          "height": 34
        },
        "outputId": "d18c3ec3-6b8f-438e-afef-ead623274e29"
      },
      "source": [
        "#verificando quantas linhas de dados ainda estão no dataframe. Perdemos cerca de 31% dos dados\n",
        "listaEscolas.shape"
      ],
      "execution_count": null,
      "outputs": [
        {
          "output_type": "execute_result",
          "data": {
            "text/plain": [
              "(153150, 6)"
            ]
          },
          "metadata": {
            "tags": []
          },
          "execution_count": 54
        }
      ]
    },
    {
      "cell_type": "code",
      "metadata": {
        "id": "n30R1y-kw3mq",
        "colab_type": "code",
        "colab": {}
      },
      "source": [
        "#salvando df\n",
        "listaEscolas.to_csv('tratamento-dados-localizacao.csv', index=False)"
      ],
      "execution_count": null,
      "outputs": []
    },
    {
      "cell_type": "markdown",
      "metadata": {
        "id": "Iw2FgJoKzT3u",
        "colab_type": "text"
      },
      "source": [
        "# Merge dados do ENEM e localização das escolas"
      ]
    },
    {
      "cell_type": "code",
      "metadata": {
        "id": "c8QeGjm0z80t",
        "colab_type": "code",
        "colab": {}
      },
      "source": [
        "#converte coluna \"Codigo INEP\" em indice\n",
        "listaEscolas.index = listaEscolas['Código INEP']"
      ],
      "execution_count": null,
      "outputs": []
    },
    {
      "cell_type": "code",
      "metadata": {
        "id": "-xJ7dK4S6ytZ",
        "colab_type": "code",
        "colab": {}
      },
      "source": [
        "#excluindo coluna 'Código INEP'\n",
        "listaEscolas.drop('Código INEP', axis=1, inplace=True)"
      ],
      "execution_count": null,
      "outputs": []
    },
    {
      "cell_type": "code",
      "metadata": {
        "id": "mGDlNXjM7NPG",
        "colab_type": "code",
        "colab": {
          "base_uri": "https://localhost:8080/",
          "height": 337
        },
        "outputId": "30f56aa5-9014-425d-f911-369172781948"
      },
      "source": [
        "listaEscolas.head()"
      ],
      "execution_count": null,
      "outputs": [
        {
          "output_type": "execute_result",
          "data": {
            "text/html": [
              "<div>\n",
              "<style scoped>\n",
              "    .dataframe tbody tr th:only-of-type {\n",
              "        vertical-align: middle;\n",
              "    }\n",
              "\n",
              "    .dataframe tbody tr th {\n",
              "        vertical-align: top;\n",
              "    }\n",
              "\n",
              "    .dataframe thead th {\n",
              "        text-align: right;\n",
              "    }\n",
              "</style>\n",
              "<table border=\"1\" class=\"dataframe\">\n",
              "  <thead>\n",
              "    <tr style=\"text-align: right;\">\n",
              "      <th></th>\n",
              "      <th>Escola</th>\n",
              "      <th>UF</th>\n",
              "      <th>Município</th>\n",
              "      <th>Latitude</th>\n",
              "      <th>Longitude</th>\n",
              "    </tr>\n",
              "    <tr>\n",
              "      <th>Código INEP</th>\n",
              "      <th></th>\n",
              "      <th></th>\n",
              "      <th></th>\n",
              "      <th></th>\n",
              "      <th></th>\n",
              "    </tr>\n",
              "  </thead>\n",
              "  <tbody>\n",
              "    <tr>\n",
              "      <th>11000023</th>\n",
              "      <td>EEEE ABNAEL MACHADO DE LIMA - CENE</td>\n",
              "      <td>RO</td>\n",
              "      <td>Porto Velho</td>\n",
              "      <td>-8.758459</td>\n",
              "      <td>-63.854011</td>\n",
              "    </tr>\n",
              "    <tr>\n",
              "      <th>11000040</th>\n",
              "      <td>EMEIEF PEQUENOS TALENTOS</td>\n",
              "      <td>RO</td>\n",
              "      <td>Porto Velho</td>\n",
              "      <td>-8.793730</td>\n",
              "      <td>-63.883919</td>\n",
              "    </tr>\n",
              "    <tr>\n",
              "      <th>11000058</th>\n",
              "      <td>CENTRO DE ENSINO CLASSE A</td>\n",
              "      <td>RO</td>\n",
              "      <td>Porto Velho</td>\n",
              "      <td>-8.760734</td>\n",
              "      <td>-63.901986</td>\n",
              "    </tr>\n",
              "    <tr>\n",
              "      <th>11000082</th>\n",
              "      <td>CENTRO EDUCACIONAL PRESBITERIANO 15 DE NOVEMBRO</td>\n",
              "      <td>RO</td>\n",
              "      <td>Porto Velho</td>\n",
              "      <td>-8.765205</td>\n",
              "      <td>-63.896177</td>\n",
              "    </tr>\n",
              "    <tr>\n",
              "      <th>11000104</th>\n",
              "      <td>CENTRO EDUC CORA CORALINA</td>\n",
              "      <td>RO</td>\n",
              "      <td>Porto Velho</td>\n",
              "      <td>-8.768632</td>\n",
              "      <td>-63.875471</td>\n",
              "    </tr>\n",
              "  </tbody>\n",
              "</table>\n",
              "</div>"
            ],
            "text/plain": [
              "                                                      Escola  ...  Longitude\n",
              "Código INEP                                                   ...           \n",
              "11000023                  EEEE ABNAEL MACHADO DE LIMA - CENE  ... -63.854011\n",
              "11000040                            EMEIEF PEQUENOS TALENTOS  ... -63.883919\n",
              "11000058                           CENTRO DE ENSINO CLASSE A  ... -63.901986\n",
              "11000082     CENTRO EDUCACIONAL PRESBITERIANO 15 DE NOVEMBRO  ... -63.896177\n",
              "11000104                           CENTRO EDUC CORA CORALINA  ... -63.875471\n",
              "\n",
              "[5 rows x 5 columns]"
            ]
          },
          "metadata": {
            "tags": []
          },
          "execution_count": 57
        }
      ]
    },
    {
      "cell_type": "code",
      "metadata": {
        "id": "-LQ38bCH2HGl",
        "colab_type": "code",
        "colab": {
          "base_uri": "https://localhost:8080/",
          "height": 204
        },
        "outputId": "6ad34fc7-881b-4e8a-e1a6-b356a749ac0f"
      },
      "source": [
        "df.head()"
      ],
      "execution_count": null,
      "outputs": [
        {
          "output_type": "execute_result",
          "data": {
            "text/html": [
              "<div>\n",
              "<style scoped>\n",
              "    .dataframe tbody tr th:only-of-type {\n",
              "        vertical-align: middle;\n",
              "    }\n",
              "\n",
              "    .dataframe tbody tr th {\n",
              "        vertical-align: top;\n",
              "    }\n",
              "\n",
              "    .dataframe thead th {\n",
              "        text-align: right;\n",
              "    }\n",
              "</style>\n",
              "<table border=\"1\" class=\"dataframe\">\n",
              "  <thead>\n",
              "    <tr style=\"text-align: right;\">\n",
              "      <th></th>\n",
              "      <th>CO_ESCOLA_EDUCACENSO</th>\n",
              "      <th>MEDIA TOTAL</th>\n",
              "    </tr>\n",
              "  </thead>\n",
              "  <tbody>\n",
              "    <tr>\n",
              "      <th>0</th>\n",
              "      <td>11000058</td>\n",
              "      <td>631.583429</td>\n",
              "    </tr>\n",
              "    <tr>\n",
              "      <th>1</th>\n",
              "      <td>11000171</td>\n",
              "      <td>507.097000</td>\n",
              "    </tr>\n",
              "    <tr>\n",
              "      <th>2</th>\n",
              "      <td>11000180</td>\n",
              "      <td>502.575333</td>\n",
              "    </tr>\n",
              "    <tr>\n",
              "      <th>3</th>\n",
              "      <td>11000198</td>\n",
              "      <td>570.662571</td>\n",
              "    </tr>\n",
              "    <tr>\n",
              "      <th>4</th>\n",
              "      <td>11000244</td>\n",
              "      <td>562.182000</td>\n",
              "    </tr>\n",
              "  </tbody>\n",
              "</table>\n",
              "</div>"
            ],
            "text/plain": [
              "   CO_ESCOLA_EDUCACENSO  MEDIA TOTAL\n",
              "0              11000058   631.583429\n",
              "1              11000171   507.097000\n",
              "2              11000180   502.575333\n",
              "3              11000198   570.662571\n",
              "4              11000244   562.182000"
            ]
          },
          "metadata": {
            "tags": []
          },
          "execution_count": 58
        }
      ]
    },
    {
      "cell_type": "code",
      "metadata": {
        "id": "TSJPROPK2Rsx",
        "colab_type": "code",
        "colab": {
          "base_uri": "https://localhost:8080/",
          "height": 34
        },
        "outputId": "d1564d45-8dad-4f6d-f144-b3f9d89ac260"
      },
      "source": [
        "df.shape"
      ],
      "execution_count": null,
      "outputs": [
        {
          "output_type": "execute_result",
          "data": {
            "text/plain": [
              "(25022, 2)"
            ]
          },
          "metadata": {
            "tags": []
          },
          "execution_count": 59
        }
      ]
    },
    {
      "cell_type": "code",
      "metadata": {
        "id": "T-3fq-rX2TU8",
        "colab_type": "code",
        "colab": {}
      },
      "source": [
        "mergeEscolaLocalizacao = df.join(listaEscolas, on='CO_ESCOLA_EDUCACENSO')"
      ],
      "execution_count": null,
      "outputs": []
    },
    {
      "cell_type": "code",
      "metadata": {
        "id": "cfdrBPP_5wyv",
        "colab_type": "code",
        "colab": {
          "base_uri": "https://localhost:8080/",
          "height": 394
        },
        "outputId": "6713c13b-1a66-4939-f3fe-66be75ed7bfe"
      },
      "source": [
        "mergeEscolaLocalizacao.head()"
      ],
      "execution_count": null,
      "outputs": [
        {
          "output_type": "execute_result",
          "data": {
            "text/html": [
              "<div>\n",
              "<style scoped>\n",
              "    .dataframe tbody tr th:only-of-type {\n",
              "        vertical-align: middle;\n",
              "    }\n",
              "\n",
              "    .dataframe tbody tr th {\n",
              "        vertical-align: top;\n",
              "    }\n",
              "\n",
              "    .dataframe thead th {\n",
              "        text-align: right;\n",
              "    }\n",
              "</style>\n",
              "<table border=\"1\" class=\"dataframe\">\n",
              "  <thead>\n",
              "    <tr style=\"text-align: right;\">\n",
              "      <th></th>\n",
              "      <th>CO_ESCOLA_EDUCACENSO</th>\n",
              "      <th>MEDIA TOTAL</th>\n",
              "      <th>Escola</th>\n",
              "      <th>UF</th>\n",
              "      <th>Município</th>\n",
              "      <th>Latitude</th>\n",
              "      <th>Longitude</th>\n",
              "    </tr>\n",
              "  </thead>\n",
              "  <tbody>\n",
              "    <tr>\n",
              "      <th>0</th>\n",
              "      <td>11000058</td>\n",
              "      <td>631.583429</td>\n",
              "      <td>CENTRO DE ENSINO CLASSE A</td>\n",
              "      <td>RO</td>\n",
              "      <td>Porto Velho</td>\n",
              "      <td>-8.760734</td>\n",
              "      <td>-63.901986</td>\n",
              "    </tr>\n",
              "    <tr>\n",
              "      <th>1</th>\n",
              "      <td>11000171</td>\n",
              "      <td>507.097000</td>\n",
              "      <td>CENTRO EDUCACIONAL MOJUCA</td>\n",
              "      <td>RO</td>\n",
              "      <td>Porto Velho</td>\n",
              "      <td>-8.765028</td>\n",
              "      <td>-63.891857</td>\n",
              "    </tr>\n",
              "    <tr>\n",
              "      <th>2</th>\n",
              "      <td>11000180</td>\n",
              "      <td>502.575333</td>\n",
              "      <td>NaN</td>\n",
              "      <td>NaN</td>\n",
              "      <td>NaN</td>\n",
              "      <td>NaN</td>\n",
              "      <td>NaN</td>\n",
              "    </tr>\n",
              "    <tr>\n",
              "      <th>3</th>\n",
              "      <td>11000198</td>\n",
              "      <td>570.662571</td>\n",
              "      <td>COLEGIO SAPIENS - UNIDADE JARDIM DAS MANGUEIRAS</td>\n",
              "      <td>RO</td>\n",
              "      <td>Porto Velho</td>\n",
              "      <td>-8.752404</td>\n",
              "      <td>-63.868376</td>\n",
              "    </tr>\n",
              "    <tr>\n",
              "      <th>4</th>\n",
              "      <td>11000244</td>\n",
              "      <td>562.182000</td>\n",
              "      <td>COLEGIO DOM BOSCO</td>\n",
              "      <td>RO</td>\n",
              "      <td>Porto Velho</td>\n",
              "      <td>-8.766677</td>\n",
              "      <td>-63.900223</td>\n",
              "    </tr>\n",
              "  </tbody>\n",
              "</table>\n",
              "</div>"
            ],
            "text/plain": [
              "   CO_ESCOLA_EDUCACENSO  MEDIA TOTAL  ...  Latitude  Longitude\n",
              "0              11000058   631.583429  ... -8.760734 -63.901986\n",
              "1              11000171   507.097000  ... -8.765028 -63.891857\n",
              "2              11000180   502.575333  ...       NaN        NaN\n",
              "3              11000198   570.662571  ... -8.752404 -63.868376\n",
              "4              11000244   562.182000  ... -8.766677 -63.900223\n",
              "\n",
              "[5 rows x 7 columns]"
            ]
          },
          "metadata": {
            "tags": []
          },
          "execution_count": 63
        }
      ]
    },
    {
      "cell_type": "code",
      "metadata": {
        "id": "8hgJT0FG8KNH",
        "colab_type": "code",
        "colab": {
          "base_uri": "https://localhost:8080/",
          "height": 34
        },
        "outputId": "18ede469-2e9d-4fa9-8e0f-0203894b9ec7"
      },
      "source": [
        "mergeEscolaLocalizacao.shape "
      ],
      "execution_count": null,
      "outputs": [
        {
          "output_type": "execute_result",
          "data": {
            "text/plain": [
              "(25022, 7)"
            ]
          },
          "metadata": {
            "tags": []
          },
          "execution_count": 65
        }
      ]
    },
    {
      "cell_type": "code",
      "metadata": {
        "id": "jKdDUBKC8Req",
        "colab_type": "code",
        "colab": {
          "base_uri": "https://localhost:8080/",
          "height": 34
        },
        "outputId": "a81d7a16-6a5b-4f16-e7ac-93d61693e66b"
      },
      "source": [
        "df.shape"
      ],
      "execution_count": null,
      "outputs": [
        {
          "output_type": "execute_result",
          "data": {
            "text/plain": [
              "(25022, 2)"
            ]
          },
          "metadata": {
            "tags": []
          },
          "execution_count": 66
        }
      ]
    },
    {
      "cell_type": "code",
      "metadata": {
        "id": "YtMAEVgtKVV9",
        "colab_type": "code",
        "colab": {
          "base_uri": "https://localhost:8080/",
          "height": 153
        },
        "outputId": "4bf0826e-f2bd-4537-a9d4-62f6f9f1825f"
      },
      "source": [
        "#excluindo dados faltantes\n",
        "mergeEscolaLocalizacao.dropna(axis=0, subset=['Longitude', 'Latitude'], inplace=True)\n",
        "mergeEscolaLocalizacao.isna().sum()"
      ],
      "execution_count": null,
      "outputs": [
        {
          "output_type": "execute_result",
          "data": {
            "text/plain": [
              "CO_ESCOLA_EDUCACENSO    0\n",
              "MEDIA TOTAL             0\n",
              "Escola                  0\n",
              "UF                      0\n",
              "Município               0\n",
              "Latitude                0\n",
              "Longitude               0\n",
              "dtype: int64"
            ]
          },
          "metadata": {
            "tags": []
          },
          "execution_count": 84
        }
      ]
    },
    {
      "cell_type": "code",
      "metadata": {
        "id": "-iapTiBj8xsN",
        "colab_type": "code",
        "colab": {}
      },
      "source": [
        "#salvando merge\n",
        "mergeEscolaLocalizacao.to_csv('merge-df-e-listaEscolas.csv', index=False)"
      ],
      "execution_count": null,
      "outputs": []
    },
    {
      "cell_type": "markdown",
      "metadata": {
        "colab_type": "text",
        "id": "SAmBNkYx-i3h"
      },
      "source": [
        "#Plotagem do mapa\n",
        "\n"
      ]
    },
    {
      "cell_type": "markdown",
      "metadata": {
        "id": "D3ygygeEyQu4",
        "colab_type": "text"
      },
      "source": [
        "## Criação do Mapa"
      ]
    },
    {
      "cell_type": "code",
      "metadata": {
        "id": "ms78AZhfkJ5u",
        "colab_type": "code",
        "colab": {}
      },
      "source": [
        "\n",
        "#\"Passagem de propriedades personalizadas via marcador, \n",
        "#no Folium o marcador padrão não o suporta, mas a seguinte classe de \n",
        "#marcador pode ser introduzida, estendendo a classe Marker\" (fonte: Vadim Gremyachev/Stack OverFlow)\n",
        "\n",
        "class MarkerWithProps(Marker):\n",
        "    _template = Template(u\"\"\"\n",
        "        {% macro script(this, kwargs) %}\n",
        "        var {{this.get_name()}} = L.marker(\n",
        "            [{{this.location[0]}}, {{this.location[1]}}],\n",
        "            {\n",
        "                icon: new L.Icon.Default(),\n",
        "                {%- if this.draggable %}\n",
        "                draggable: true,\n",
        "                autoPan: true,\n",
        "                {%- endif %}\n",
        "                {%- if this.props %}\n",
        "                props : {{ this.props }} \n",
        "                {%- endif %}\n",
        "                }\n",
        "            )\n",
        "            .addTo({{this._parent.get_name()}});\n",
        "        {% endmacro %}\n",
        "        \"\"\")\n",
        "    def __init__(self, location, popup=None, tooltip=None, icon=None,name=None,\n",
        "                 draggable=False, props = None ):\n",
        "        super(MarkerWithProps, self).__init__(location=location,popup=popup,tooltip=tooltip,icon=icon,draggable=draggable)\n",
        "        self.props = json.loads(json.dumps(props))    \n",
        "\n",
        "\n",
        "# Personalização da função icon_create_function do cluster de marcadores,\n",
        "# para substituição do rótulo do marcador para exibir o valor personalizado em vez do padrão \n",
        "# (contagem de marcadores em um cluster) (fonte: Vadim Gremyachev/Stack OverFlow)\n",
        "\n",
        "icon_create_function = '''\n",
        "    function(cluster) {\n",
        "        var markers = cluster.getAllChildMarkers();\n",
        "        var sum = 0;\n",
        "        for (var i = 0; i < markers.length; i++) {\n",
        "            sum += markers[i].options.props.mediaTotal;\n",
        "        }\n",
        "        var avg = sum/cluster.getChildCount();   \n",
        "        avg=avg.toFixed(2);  \n",
        "\n",
        "        function verifica_Media(media) {\n",
        "            if (media < 520) {\n",
        "                return 'marker-cluster marker-cluster-large'\n",
        "            }\n",
        "            else if (media >=  520 && media <= 600) {\n",
        "                return 'marker-cluster marker-cluster-medium'\n",
        "            }\n",
        "            else  if (media > 600) {\n",
        "                return 'marker-cluster marker-cluster-small'\n",
        "            }\n",
        "        }\n",
        "\n",
        "        return L.divIcon({\n",
        "             html: '<div style=\"display:flex;justify-content:center;align-items:center;font-size:7pt;\">'+ avg +'</div>',\n",
        "             className: verifica_Media(avg),\n",
        "             iconSize: new L.Point(40, 40)\n",
        "        });\n",
        "    }\n",
        "'''\n",
        "\n",
        "## CRIAÇÃO DO MAPA\n",
        "width, height = 480, 350\n",
        "from branca.element import Figure\n",
        "fig = Figure(width=width, height=height)\n",
        "\n",
        "map = folium.Map(location=[-9.026078, -70.441312], zoom_start=4, tiles=None)\n",
        "folium.TileLayer(name='ENEM MÉDIAS').add_to(map)\n",
        "\n",
        "maker_data_list = []\n",
        "for index, row in mergeEscolaLocalizacao.iterrows():\n",
        "        maker_data_list.append({'localizacao':[row['Latitude'], row['Longitude']], 'mediaTotal': round(row['MEDIA TOTAL'], 2), \n",
        "                                'nomeEscola': row['Escola'], 'UF': row['UF']})\n",
        "\n",
        "marker_data = tuple(maker_data_list)\n",
        "\n",
        "estados = {}\n",
        "grupos = {}\n",
        "estados_unique = np.unique(mergeEscolaLocalizacao['UF'])\n",
        "\n",
        "for uf in estados_unique:\n",
        "    estados[uf] = MarkerCluster(icon_create_function=icon_create_function, name=uf)\n",
        "    grupos[uf] = folium.FeatureGroup(name=uf)\n",
        "\n",
        "for uf in estados:\n",
        "    for marker_item in marker_data:\n",
        "        if (marker_item['UF'] == uf):\n",
        "            MarkerWithProps(\n",
        "                    location=marker_item['localizacao'],\n",
        "                    props = {'mediaTotal': marker_item['mediaTotal']},\n",
        "                    popup=marker_item['nomeEscola'] + \":<br>\" + '<b>' + str(marker_item['mediaTotal']) + '</b>',\n",
        "                    icon =  (\n",
        "                            folium.Icon(color='red', icon_color='#f5f6fa', icon='university', prefix='fa') \n",
        "                            if marker_item['mediaTotal'] < 600 \n",
        "                            else folium.Icon(color='blue', icon_color='#f5f6fa',\n",
        "                                            icon='university', prefix='fa')\n",
        "                            ),\n",
        "                ).add_to(estados[uf])\n",
        "\n",
        "    grupos[uf].add_child(estados[uf])\n",
        "    estados[uf].add_to(map)\n",
        "            "
      ],
      "execution_count": null,
      "outputs": []
    },
    {
      "cell_type": "markdown",
      "metadata": {
        "id": "3qOVb-xnyLsn",
        "colab_type": "text"
      },
      "source": [
        "## Legenda"
      ]
    },
    {
      "cell_type": "code",
      "metadata": {
        "colab_type": "code",
        "id": "YK-pL-DDaeYM",
        "colab": {}
      },
      "source": [
        "\n",
        "template = \"\"\"\n",
        "{% macro html(this, kwargs) %}\n",
        "\n",
        "<!doctype html>\n",
        "<html lang=\"utf-8\">\n",
        "<head>\n",
        "  <meta charset=\"utf-8\">\n",
        "  <meta name=\"viewport\" content=\"width=device-width, initial-scale=1\">\n",
        "  <title>Mapeamento de médias do ENEM por escola (2009 - 2015)</title>\n",
        "  <link rel=\"stylesheet\" href=\"//code.jquery.com/ui/1.12.1/themes/base/jquery-ui.css\">\n",
        "\n",
        "</head>\n",
        "<body>\n",
        "\n",
        "<div id='maplegend' class='maplegend' \n",
        "    style='position: absolute; z-index:9999; border:0px; background-color:rgba(255, 255, 255, 0.8);\n",
        "     border-radius:6px; padding: 10px; font-size:25px; left: 0px; top: 0px;'>\n",
        "     \n",
        "    <div class='legend-title'><font size=\"2\">Mapeamento de médias do ENEM</div>\n",
        "    <div class='legend-scale'><font size=\"1\">Provas de 2009 a 2015 | github.com/WendelMarques</font></div>\n",
        "</div>\n",
        "\n",
        " \n",
        "<div id='maplegend' class='maplegend' \n",
        "    style='position: absolute; z-index:9999; border:2px solid white; background-color:rgba(255, 255, 255, 0.8);\n",
        "     border-radius:6px; padding: 10px; font-size:11px; left: 20px; bottom: 20px;'>\n",
        "     \n",
        "<div class='legend-title'>Agrupamentos</div>\n",
        "<div class='legend-scale'>\n",
        "  <ul class='legend-labels'>\n",
        "    <li><span style='background:orange;opacity:0.7;'></span> 339 - 520</li>\n",
        "    <li><span style='background:yellow;opacity:0.7;'></span>520 - 600</li>\n",
        "    <li><span style='background:green;opacity:0.7;'></span>600 - 753</li>\n",
        "\n",
        "  </ul>\n",
        "  <div class='legend-title'>Marcadores</div>\n",
        "    <ul class='legend-labels'>\n",
        "    <li><span style='background:red;opacity:0.7;'></span>Menor que 600 </li>\n",
        "    <li><span style='background:blue;opacity:0.7;'></span>Maior que 600</li>\n",
        "  </ul>\n",
        "\n",
        "  </ul>\n",
        "  <div class='legend-title'></div>\n",
        "    \n",
        "\n",
        "</div>\n",
        "</div>\n",
        " \n",
        "</body>\n",
        "</html>\n",
        "\n",
        "<style type='text/css'>\n",
        "  .maplegend .legend-title {\n",
        "    text-align: left;\n",
        "    margin-bottom: 5px;\n",
        "    font-weight: bold;\n",
        "    font-size: 90%;\n",
        "    }\n",
        "  .maplegend .legend-scale ul {\n",
        "    margin: 0;\n",
        "    margin-bottom: 5px;\n",
        "    padding: 0;\n",
        "    float: left;\n",
        "    list-style: none;\n",
        "    }\n",
        "  .maplegend .legend-scale ul li {\n",
        "    font-size: 80%;\n",
        "    list-style: none;\n",
        "    margin-left: 0;\n",
        "    line-height: 18px;\n",
        "    margin-bottom: 2px;\n",
        "    }\n",
        "  .maplegend ul.legend-labels li span {\n",
        "    display: block;\n",
        "    float: left;\n",
        "    height: 16px;\n",
        "    width: 30px;\n",
        "    margin-right: 5px;\n",
        "    margin-left: 0;\n",
        "    border: 1px solid #999;\n",
        "    }\n",
        "  .maplegend .legend-source {\n",
        "    font-size: 80%;\n",
        "    color: #777;\n",
        "    clear: both;\n",
        "    }\n",
        "  .maplegend a {\n",
        "    color: #777;\n",
        "    }\n",
        "</style>\n",
        "{% endmacro %}\"\"\"\n",
        "\n",
        "macro = MacroElement()\n",
        "macro._template = Template(template)\n",
        "\n",
        "map.get_root().add_child(macro)"
      ],
      "execution_count": null,
      "outputs": []
    },
    {
      "cell_type": "markdown",
      "metadata": {
        "id": "8k1_a-m13gFd",
        "colab_type": "text"
      },
      "source": [
        "## Salva mapa"
      ]
    },
    {
      "cell_type": "code",
      "metadata": {
        "id": "yZQ9kdvryJqz",
        "colab_type": "code",
        "colab": {}
      },
      "source": [
        "folium.LayerControl('topright', collapsed=True).add_to(map)\n",
        "# map.save('/content/drive/My Drive/Colab Notebooks/mapeamento-enem/mapa-completo.html')\n",
        "map.save('mapa-completo.html')"
      ],
      "execution_count": null,
      "outputs": []
    }
  ]
}